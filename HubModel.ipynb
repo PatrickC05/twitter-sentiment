{
 "cells": [
  {
   "cell_type": "code",
   "execution_count": 1,
   "id": "equivalent-physiology",
   "metadata": {},
   "outputs": [],
   "source": [
    "import tensorflow as tf\n",
    "import tensorflow_hub as hub\n",
    "\n",
    "import matplotlib.pyplot as plt\n",
    "import pandas as pd\n",
    "import re\n",
    "import numpy as np"
   ]
  },
  {
   "cell_type": "code",
   "execution_count": 2,
   "id": "ecological-gentleman",
   "metadata": {},
   "outputs": [],
   "source": [
    "data = pd.read_csv('tweets.csv',encoding='latin-1',names=['polarity','id','date','query','username','text'])"
   ]
  },
  {
   "cell_type": "code",
   "execution_count": 3,
   "id": "based-florist",
   "metadata": {},
   "outputs": [],
   "source": [
    "data = data.sample(frac = 1,random_state=25) "
   ]
  },
  {
   "cell_type": "code",
   "execution_count": 4,
   "id": "hearing-strengthening",
   "metadata": {},
   "outputs": [
    {
     "data": {
      "text/html": [
       "<div>\n",
       "<style scoped>\n",
       "    .dataframe tbody tr th:only-of-type {\n",
       "        vertical-align: middle;\n",
       "    }\n",
       "\n",
       "    .dataframe tbody tr th {\n",
       "        vertical-align: top;\n",
       "    }\n",
       "\n",
       "    .dataframe thead th {\n",
       "        text-align: right;\n",
       "    }\n",
       "</style>\n",
       "<table border=\"1\" class=\"dataframe\">\n",
       "  <thead>\n",
       "    <tr style=\"text-align: right;\">\n",
       "      <th></th>\n",
       "      <th>polarity</th>\n",
       "      <th>id</th>\n",
       "      <th>date</th>\n",
       "      <th>query</th>\n",
       "      <th>username</th>\n",
       "      <th>text</th>\n",
       "    </tr>\n",
       "  </thead>\n",
       "  <tbody>\n",
       "    <tr>\n",
       "      <th>1310518</th>\n",
       "      <td>4</td>\n",
       "      <td>2013329963</td>\n",
       "      <td>Tue Jun 02 22:25:12 PDT 2009</td>\n",
       "      <td>NO_QUERY</td>\n",
       "      <td>JeffreyNam</td>\n",
       "      <td>working add oil</td>\n",
       "    </tr>\n",
       "    <tr>\n",
       "      <th>1259386</th>\n",
       "      <td>4</td>\n",
       "      <td>1998107018</td>\n",
       "      <td>Mon Jun 01 18:00:16 PDT 2009</td>\n",
       "      <td>NO_QUERY</td>\n",
       "      <td>NKANGEL74</td>\n",
       "      <td>@KristianaNKOTB you're welcome</td>\n",
       "    </tr>\n",
       "    <tr>\n",
       "      <th>897897</th>\n",
       "      <td>4</td>\n",
       "      <td>1693461347</td>\n",
       "      <td>Sun May 03 22:37:21 PDT 2009</td>\n",
       "      <td>NO_QUERY</td>\n",
       "      <td>allyfish87</td>\n",
       "      <td>is going to bed, work in the morning boo but t...</td>\n",
       "    </tr>\n",
       "    <tr>\n",
       "      <th>148032</th>\n",
       "      <td>0</td>\n",
       "      <td>1882992096</td>\n",
       "      <td>Fri May 22 07:49:50 PDT 2009</td>\n",
       "      <td>NO_QUERY</td>\n",
       "      <td>drcharlii</td>\n",
       "      <td>@sparky_habbo - uni &amp;amp; assignments happened...</td>\n",
       "    </tr>\n",
       "    <tr>\n",
       "      <th>743318</th>\n",
       "      <td>0</td>\n",
       "      <td>2266811610</td>\n",
       "      <td>Sun Jun 21 09:08:26 PDT 2009</td>\n",
       "      <td>NO_QUERY</td>\n",
       "      <td>elizuhhbef</td>\n",
       "      <td>Can't wait to have chinese food! Still disappo...</td>\n",
       "    </tr>\n",
       "  </tbody>\n",
       "</table>\n",
       "</div>"
      ],
      "text/plain": [
       "         polarity          id                          date     query  \\\n",
       "1310518         4  2013329963  Tue Jun 02 22:25:12 PDT 2009  NO_QUERY   \n",
       "1259386         4  1998107018  Mon Jun 01 18:00:16 PDT 2009  NO_QUERY   \n",
       "897897          4  1693461347  Sun May 03 22:37:21 PDT 2009  NO_QUERY   \n",
       "148032          0  1882992096  Fri May 22 07:49:50 PDT 2009  NO_QUERY   \n",
       "743318          0  2266811610  Sun Jun 21 09:08:26 PDT 2009  NO_QUERY   \n",
       "\n",
       "           username                                               text  \n",
       "1310518  JeffreyNam                                   working add oil   \n",
       "1259386   NKANGEL74                    @KristianaNKOTB you're welcome   \n",
       "897897   allyfish87  is going to bed, work in the morning boo but t...  \n",
       "148032    drcharlii  @sparky_habbo - uni &amp; assignments happened...  \n",
       "743318   elizuhhbef  Can't wait to have chinese food! Still disappo...  "
      ]
     },
     "execution_count": 4,
     "metadata": {},
     "output_type": "execute_result"
    }
   ],
   "source": [
    "data.head()"
   ]
  },
  {
   "cell_type": "code",
   "execution_count": 5,
   "id": "sublime-stranger",
   "metadata": {},
   "outputs": [],
   "source": [
    "def tweet_cleaner(text):\n",
    "    pat1 = r'@[A-Za-z0-9]+'\n",
    "    pat2 = r'https?://[A-Za-z0-9./]+'\n",
    "    combined_pat = r'|'.join((pat1, pat2))\n",
    "    stripped = re.sub(combined_pat, '', text)\n",
    "    try:\n",
    "        clean = stripped.decode(\"utf-8-sig\").replace(u\"\\ufffd\", \"?\")\n",
    "    except:\n",
    "        clean = stripped\n",
    "    letters_only = re.sub(\"[^a-zA-Z]\", \" \", clean)\n",
    "    lower_case = letters_only.lower()\n",
    "    # During the letters_only process two lines above, it has created unnecessay white spaces,\n",
    "    # I will tokenize and join together to remove unneccessary white spaces\n",
    "    return lower_case.strip()"
   ]
  },
  {
   "cell_type": "code",
   "execution_count": 6,
   "id": "pediatric-candidate",
   "metadata": {},
   "outputs": [
    {
     "data": {
      "text/plain": [
       "array(['working add oil', 'you re welcome',\n",
       "       'is going to bed  work in the morning boo but then gets to see my b',\n",
       "       ...,\n",
       "       'waiting around for renders to finish in case there s any tweaks to do  then tomorrow    rhino charge',\n",
       "       'i m  good  suppose to went to work but plans changed  so just been chilling taking it easy',\n",
       "       'so i was just nominated by  and you  i don t make the final list of nominees'],\n",
       "      dtype='<U244')"
      ]
     },
     "execution_count": 6,
     "metadata": {},
     "output_type": "execute_result"
    }
   ],
   "source": [
    "v_cleaner = np.vectorize(tweet_cleaner)\n",
    "texts = v_cleaner(data['text'].values)\n",
    "texts"
   ]
  },
  {
   "cell_type": "code",
   "execution_count": 7,
   "id": "turned-perth",
   "metadata": {},
   "outputs": [
    {
     "data": {
      "text/plain": [
       "array([ True,  True,  True, ...,  True,  True, False])"
      ]
     },
     "execution_count": 7,
     "metadata": {},
     "output_type": "execute_result"
    }
   ],
   "source": [
    "labels = data['polarity'].values == 4\n",
    "labels"
   ]
  },
  {
   "cell_type": "code",
   "execution_count": 8,
   "id": "finnish-bikini",
   "metadata": {},
   "outputs": [],
   "source": [
    "BATCH_SIZE = 128\n",
    "AUTOTUNE = tf.data.AUTOTUNE\n",
    "examples = len(data.index)\n",
    "train_val = int(np.ceil(0.6*examples))\n",
    "val_test = int(np.ceil(0.8*examples))"
   ]
  },
  {
   "cell_type": "code",
   "execution_count": 9,
   "id": "african-hopkins",
   "metadata": {},
   "outputs": [],
   "source": [
    "train_ds = tf.data.Dataset.from_tensor_slices((texts[:train_val],labels[:train_val])).batch(BATCH_SIZE).prefetch(AUTOTUNE)\n",
    "val_ds = tf.data.Dataset.from_tensor_slices((texts[train_val:val_test],labels[train_val:val_test])).batch(BATCH_SIZE).prefetch(AUTOTUNE)\n",
    "test_ds = tf.data.Dataset.from_tensor_slices((texts[val_test:],labels[val_test:])).batch(BATCH_SIZE).prefetch(AUTOTUNE)"
   ]
  },
  {
   "cell_type": "code",
   "execution_count": 10,
   "id": "residential-intensity",
   "metadata": {},
   "outputs": [
    {
     "name": "stdout",
     "output_type": "stream",
     "text": [
      "Review: b'working add oil'\n",
      "True\n",
      "Review: b'you re welcome'\n",
      "True\n",
      "Review: b'is going to bed  work in the morning boo but then gets to see my b'\n",
      "True\n",
      "Review: b'habbo   uni  amp  assignments happened  goodnight mr sparkles'\n",
      "False\n",
      "Review: b'can t wait to have chinese food  still disappointed ocharleys stopped making jambalaya pasta'\n",
      "False\n"
     ]
    }
   ],
   "source": [
    "for text_batch, label_batch in train_ds.take(1):\n",
    "  for i in range(5):\n",
    "    print(f'Review: {text_batch.numpy()[i]}')\n",
    "    label = label_batch.numpy()[i]\n",
    "    print(label)"
   ]
  },
  {
   "cell_type": "code",
   "execution_count": 31,
   "id": "welcome-voltage",
   "metadata": {},
   "outputs": [
    {
     "name": "stdout",
     "output_type": "stream",
     "text": [
      "WARNING:tensorflow:9 out of the last 9 calls to <function recreate_function.<locals>.restored_function_body at 0x7ff5121f9b80> triggered tf.function retracing. Tracing is expensive and the excessive number of tracings could be due to (1) creating @tf.function repeatedly in a loop, (2) passing tensors with different shapes, (3) passing Python objects instead of tensors. For (1), please define your @tf.function outside of the loop. For (2), @tf.function has experimental_relax_shapes=True option that relaxes argument shapes that can avoid unnecessary retracing. For (3), please refer to https://www.tensorflow.org/guide/function#controlling_retracing and https://www.tensorflow.org/api_docs/python/tf/function for  more details.\n"
     ]
    },
    {
     "name": "stderr",
     "output_type": "stream",
     "text": [
      "WARNING:tensorflow:9 out of the last 9 calls to <function recreate_function.<locals>.restored_function_body at 0x7ff5121f9b80> triggered tf.function retracing. Tracing is expensive and the excessive number of tracings could be due to (1) creating @tf.function repeatedly in a loop, (2) passing tensors with different shapes, (3) passing Python objects instead of tensors. For (1), please define your @tf.function outside of the loop. For (2), @tf.function has experimental_relax_shapes=True option that relaxes argument shapes that can avoid unnecessary retracing. For (3), please refer to https://www.tensorflow.org/guide/function#controlling_retracing and https://www.tensorflow.org/api_docs/python/tf/function for  more details.\n"
     ]
    },
    {
     "name": "stdout",
     "output_type": "stream",
     "text": [
      "WARNING:tensorflow:10 out of the last 10 calls to <function recreate_function.<locals>.restored_function_body at 0x7ff5121f9040> triggered tf.function retracing. Tracing is expensive and the excessive number of tracings could be due to (1) creating @tf.function repeatedly in a loop, (2) passing tensors with different shapes, (3) passing Python objects instead of tensors. For (1), please define your @tf.function outside of the loop. For (2), @tf.function has experimental_relax_shapes=True option that relaxes argument shapes that can avoid unnecessary retracing. For (3), please refer to https://www.tensorflow.org/guide/function#controlling_retracing and https://www.tensorflow.org/api_docs/python/tf/function for  more details.\n"
     ]
    },
    {
     "name": "stderr",
     "output_type": "stream",
     "text": [
      "WARNING:tensorflow:10 out of the last 10 calls to <function recreate_function.<locals>.restored_function_body at 0x7ff5121f9040> triggered tf.function retracing. Tracing is expensive and the excessive number of tracings could be due to (1) creating @tf.function repeatedly in a loop, (2) passing tensors with different shapes, (3) passing Python objects instead of tensors. For (1), please define your @tf.function outside of the loop. For (2), @tf.function has experimental_relax_shapes=True option that relaxes argument shapes that can avoid unnecessary retracing. For (3), please refer to https://www.tensorflow.org/guide/function#controlling_retracing and https://www.tensorflow.org/api_docs/python/tf/function for  more details.\n"
     ]
    }
   ],
   "source": [
    "hub_layer = hub.KerasLayer(\"https://tfhub.dev/google/tf2-preview/nnlm-en-dim128-with-normalization/1\", output_shape=[128],\n",
    "                           input_shape=[], dtype=tf.string)"
   ]
  },
  {
   "cell_type": "code",
   "execution_count": null,
   "id": "gentle-marker",
   "metadata": {},
   "outputs": [],
   "source": []
  },
  {
   "cell_type": "code",
   "execution_count": 36,
   "id": "swedish-profit",
   "metadata": {},
   "outputs": [],
   "source": [
    "model = tf.keras.Sequential([\n",
    "    hub_layer,\n",
    "#     tf.keras.layers.Dense(64, activation='relu'),\n",
    "#     tf.keras.layers.Dense(128,activation='relu'),\n",
    "#     tf.keras.layers.Dense(1, activation='sigmoid')\n",
    "])"
   ]
  },
  {
   "cell_type": "code",
   "execution_count": 37,
   "id": "structural-italic",
   "metadata": {},
   "outputs": [
    {
     "name": "stdout",
     "output_type": "stream",
     "text": [
      "Model: \"sequential_8\"\n",
      "_________________________________________________________________\n",
      "Layer (type)                 Output Shape              Param #   \n",
      "=================================================================\n",
      "keras_layer_4 (KerasLayer)   (None, 128)               124642688 \n",
      "=================================================================\n",
      "Total params: 124,642,688\n",
      "Trainable params: 0\n",
      "Non-trainable params: 124,642,688\n",
      "_________________________________________________________________\n"
     ]
    }
   ],
   "source": [
    "num_epochs = 50\n",
    "model.compile(loss=tf.keras.losses.BinaryCrossentropy(from_logits=True),\n",
    "                                 optimizer=tf.keras.optimizers.Adam(),\n",
    "                                 metrics=['accuracy'])\n",
    "model.summary()\n",
    "# history = model.fit(train_ds, epochs=num_epochs, \n",
    "#                       validation_data=val_ds)"
   ]
  },
  {
   "cell_type": "code",
   "execution_count": null,
   "id": "comic-washer",
   "metadata": {},
   "outputs": [],
   "source": []
  },
  {
   "cell_type": "code",
   "execution_count": null,
   "id": "southern-supervisor",
   "metadata": {},
   "outputs": [],
   "source": []
  },
  {
   "cell_type": "code",
   "execution_count": null,
   "id": "smooth-detector",
   "metadata": {},
   "outputs": [],
   "source": [
    "dataset_name = 'sentiment140'\n",
    "saved_model_path = './{}_hub'.format(dataset_name.replace('/', '_'))\n",
    "model.save(saved_model_path, include_optimizer=False)"
   ]
  },
  {
   "cell_type": "code",
   "execution_count": null,
   "id": "unavailable-decimal",
   "metadata": {},
   "outputs": [],
   "source": []
  }
 ],
 "metadata": {
  "kernelspec": {
   "display_name": "Python 3",
   "language": "python",
   "name": "python3"
  },
  "language_info": {
   "codemirror_mode": {
    "name": "ipython",
    "version": 3
   },
   "file_extension": ".py",
   "mimetype": "text/x-python",
   "name": "python",
   "nbconvert_exporter": "python",
   "pygments_lexer": "ipython3",
   "version": "3.8.5"
  }
 },
 "nbformat": 4,
 "nbformat_minor": 5
}
