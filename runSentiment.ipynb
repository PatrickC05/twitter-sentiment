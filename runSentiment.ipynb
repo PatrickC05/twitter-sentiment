{
 "cells": [
  {
   "cell_type": "code",
   "execution_count": 1,
   "id": "excellent-lafayette",
   "metadata": {},
   "outputs": [],
   "source": [
    "import tensorflow as tf\n",
    "import tensorflow_text\n",
    "from tensorflow.keras.preprocessing.sequence import pad_sequences\n",
    "import json\n",
    "import re\n",
    "import numpy as np\n",
    "import tensorflow_hub as hub"
   ]
  },
  {
   "cell_type": "code",
   "execution_count": 2,
   "id": "facial-proceeding",
   "metadata": {},
   "outputs": [],
   "source": [
    "model_path = \"model.h5\"\n",
    "bert_model_path = \"sentiment140_bert\"\n",
    "tokenizer_path = \"tokenizer.json\""
   ]
  },
  {
   "cell_type": "code",
   "execution_count": 3,
   "id": "ignored-feeling",
   "metadata": {},
   "outputs": [],
   "source": [
    "with open(tokenizer_path,'r') as f:\n",
    "    data = json.load(f)\n",
    "    tokenizer = tf.keras.preprocessing.text.tokenizer_from_json(data)\n"
   ]
  },
  {
   "cell_type": "code",
   "execution_count": 4,
   "id": "sweet-spotlight",
   "metadata": {},
   "outputs": [],
   "source": [
    "model = tf.keras.models.load_model(model_path)"
   ]
  },
  {
   "cell_type": "code",
   "execution_count": 5,
   "id": "fossil-occurrence",
   "metadata": {},
   "outputs": [],
   "source": [
    "bert_model = tf.saved_model.load(bert_model_path)"
   ]
  },
  {
   "cell_type": "code",
   "execution_count": 6,
   "id": "preliminary-receipt",
   "metadata": {},
   "outputs": [],
   "source": [
    "def predict(texts):\n",
    "    max_length = 80\n",
    "    trunc_type='post'\n",
    "    pad_type='post'\n",
    "    sequences = tokenizer.texts_to_sequences(texts)\n",
    "    padded = pad_sequences(sequences, maxlen=max_length, truncating=trunc_type, padding=pad_type)\n",
    "    return model.predict(padded)"
   ]
  },
  {
   "cell_type": "code",
   "execution_count": 7,
   "id": "desirable-freedom",
   "metadata": {},
   "outputs": [],
   "source": [
    "def bert_preprocess(text):\n",
    "    pat1 = r'@[A-Za-z0-9]+'\n",
    "    pat2 = r'https?://[A-Za-z0-9./]+'\n",
    "    combined_pat = r'|'.join((pat1, pat2))\n",
    "    stripped = re.sub(combined_pat, '', text)\n",
    "    try:\n",
    "        clean = stripped.decode(\"utf-8-sig\").replace(u\"\\ufffd\", \"?\")\n",
    "    except:\n",
    "        clean = stripped\n",
    "    letters_only = re.sub(\"[^a-zA-Z]\", \" \", clean)\n",
    "    lower_case = letters_only.lower()\n",
    "    # During the letters_only process two lines above, it has created unnecessay white spaces,\n",
    "    # I will tokenize and join together to remove unneccessary white spaces\n",
    "    return lower_case.strip()\n",
    "v_preprocess_bert = np.vectorize(bert_preprocess)"
   ]
  },
  {
   "cell_type": "code",
   "execution_count": 14,
   "id": "naked-essex",
   "metadata": {},
   "outputs": [],
   "source": [
    "tests = [\"Just went back to school today, so happy!\", \"Ugh, just went back to school\", \"Why is work so dull\", \"This thing costs too much\"]"
   ]
  },
  {
   "cell_type": "code",
   "execution_count": 15,
   "id": "verified-humidity",
   "metadata": {},
   "outputs": [
    {
     "data": {
      "text/plain": [
       "array([[0.80126375],\n",
       "       [0.02017036],\n",
       "       [0.00281411],\n",
       "       [0.10058132]], dtype=float32)"
      ]
     },
     "execution_count": 15,
     "metadata": {},
     "output_type": "execute_result"
    }
   ],
   "source": [
    "predict(tests)"
   ]
  },
  {
   "cell_type": "code",
   "execution_count": 16,
   "id": "responsible-channels",
   "metadata": {},
   "outputs": [
    {
     "data": {
      "text/plain": [
       "<tf.Tensor: shape=(4, 1), dtype=float32, numpy=\n",
       "array([[0.9529567 ],\n",
       "       [0.02763721],\n",
       "       [0.01168621],\n",
       "       [0.10532796]], dtype=float32)>"
      ]
     },
     "execution_count": 16,
     "metadata": {},
     "output_type": "execute_result"
    }
   ],
   "source": [
    "x = v_preprocess_bert(np.array(tests))\n",
    "tf.sigmoid(bert_model(tf.constant(x)))"
   ]
  },
  {
   "cell_type": "code",
   "execution_count": null,
   "id": "historical-context",
   "metadata": {},
   "outputs": [],
   "source": []
  }
 ],
 "metadata": {
  "kernelspec": {
   "display_name": "Python 3",
   "language": "python",
   "name": "python3"
  },
  "language_info": {
   "codemirror_mode": {
    "name": "ipython",
    "version": 3
   },
   "file_extension": ".py",
   "mimetype": "text/x-python",
   "name": "python",
   "nbconvert_exporter": "python",
   "pygments_lexer": "ipython3",
   "version": "3.8.5"
  }
 },
 "nbformat": 4,
 "nbformat_minor": 5
}
