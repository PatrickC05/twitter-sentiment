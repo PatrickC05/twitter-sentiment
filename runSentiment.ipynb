{
 "cells": [
  {
   "cell_type": "code",
   "execution_count": 19,
   "id": "running-domain",
   "metadata": {},
   "outputs": [],
   "source": [
    "import tensorflow as tf\n",
    "from tensorflow.keras.preprocessing.sequence import pad_sequences\n",
    "import json\n",
    "import re"
   ]
  },
  {
   "cell_type": "code",
   "execution_count": 2,
   "id": "simple-tuner",
   "metadata": {},
   "outputs": [],
   "source": [
    "model_path = \"model.h5\"\n",
    "tokenizer_path = \"tokenizer.json\""
   ]
  },
  {
   "cell_type": "code",
   "execution_count": 5,
   "id": "parliamentary-turkey",
   "metadata": {},
   "outputs": [],
   "source": [
    "with open(tokenizer_path,'r') as f:\n",
    "    data = json.load(f)\n",
    "    tokenizer = tf.keras.preprocessing.text.tokenizer_from_json(data)\n"
   ]
  },
  {
   "cell_type": "code",
   "execution_count": 6,
   "id": "capital-comparison",
   "metadata": {},
   "outputs": [],
   "source": [
    "model = tf.keras.models.load_model(model_path)"
   ]
  },
  {
   "cell_type": "code",
   "execution_count": null,
   "id": "handmade-forest",
   "metadata": {},
   "outputs": [],
   "source": [
    "def tweet_cleaner(text):\n",
    "    pat1 = r'@[A-Za-z0-9]+'\n",
    "    pat2 = r'https?://[A-Za-z0-9./]+'\n",
    "    combined_pat = r'|'.join((pat1, pat2))\n",
    "    stripped = re.sub(combined_pat, '', text)\n",
    "    try:\n",
    "        clean = stripped.decode(\"utf-8-sig\").replace(u\"\\ufffd\", \"?\")\n",
    "    except:\n",
    "        clean = stripped\n",
    "    letters_only = re.sub(\"[^a-zA-Z]\", \" \", clean)\n",
    "    lower_case = letters_only.lower()\n",
    "    # During the letters_only process two lines above, it has created unnecessay white spaces,\n",
    "    # I will tokenize and join together to remove unneccessary white spaces\n",
    "    return lower_case.strip()"
   ]
  },
  {
   "cell_type": "code",
   "execution_count": 15,
   "id": "hawaiian-monitoring",
   "metadata": {},
   "outputs": [],
   "source": [
    "def predict(texts):\n",
    "    max_length = 80\n",
    "    trunc_type='post'\n",
    "    pad_type='post'\n",
    "    sequences = tokenizer.texts_to_sequences(texts)\n",
    "    padded = pad_sequences(sequences, maxlen=max_length, truncating=trunc_type, padding=pad_type)\n",
    "    return model.predict(padded)"
   ]
  },
  {
   "cell_type": "code",
   "execution_count": 17,
   "id": "ignored-quilt",
   "metadata": {},
   "outputs": [],
   "source": [
    "tests = [\"Just went back to school today, so happy!\", \"Ugh, just went back to school\", \"Why is work so dull\"]"
   ]
  },
  {
   "cell_type": "code",
   "execution_count": 18,
   "id": "funny-damages",
   "metadata": {},
   "outputs": [
    {
     "data": {
      "text/plain": [
       "array([[0.80126375],\n",
       "       [0.02017036],\n",
       "       [0.00281411]], dtype=float32)"
      ]
     },
     "execution_count": 18,
     "metadata": {},
     "output_type": "execute_result"
    }
   ],
   "source": [
    "predict(tests)"
   ]
  }
 ],
 "metadata": {
  "kernelspec": {
   "display_name": "Python 3",
   "language": "python",
   "name": "python3"
  },
  "language_info": {
   "codemirror_mode": {
    "name": "ipython",
    "version": 3
   },
   "file_extension": ".py",
   "mimetype": "text/x-python",
   "name": "python",
   "nbconvert_exporter": "python",
   "pygments_lexer": "ipython3",
   "version": "3.8.5"
  }
 },
 "nbformat": 4,
 "nbformat_minor": 5
}
