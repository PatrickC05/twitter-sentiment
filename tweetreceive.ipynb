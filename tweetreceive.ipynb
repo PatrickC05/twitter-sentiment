{
 "cells": [
  {
   "cell_type": "code",
   "execution_count": 13,
   "id": "decimal-criminal",
   "metadata": {},
   "outputs": [],
   "source": [
    "import tweepy\n",
    "import tensorflow as tf\n",
    "import tensorflow_text\n",
    "import re\n",
    "import numpy as np\n",
    "import os\n",
    "import datetime"
   ]
  },
  {
   "cell_type": "markdown",
   "id": "governmental-james",
   "metadata": {},
   "source": [
    "Next, set up the API and load the model"
   ]
  },
  {
   "cell_type": "code",
   "execution_count": 9,
   "id": "responsible-start",
   "metadata": {},
   "outputs": [],
   "source": [
    "auth = tweepy.OAuthHandler(os.environ.get('API_KEY'), os.environ.get('API_SECRET'))\n",
    "auth.set_access_token(os.environ.get('ACCESS_TOKEN'), os.environ.get('ACCESS_SECRET'))\n",
    "api = tweepy.API(auth)"
   ]
  },
  {
   "cell_type": "code",
   "execution_count": 41,
   "id": "fleet-talent",
   "metadata": {},
   "outputs": [],
   "source": [
    "bert_model_path = \"sentiment140_bert\"\n",
    "bert_model = tf.saved_model.load(bert_model_path)\n",
    "def bert_preprocess(text):\n",
    "    pat1 = r'@[A-Za-z0-9]+'\n",
    "    pat2 = r'https?://[A-Za-z0-9./]+'\n",
    "    combined_pat = r'|'.join((pat1, pat2))\n",
    "    stripped = re.sub(combined_pat, '', text)\n",
    "    try:\n",
    "        clean = stripped.decode(\"utf-8-sig\").replace(u\"\\ufffd\", \"?\")\n",
    "    except:\n",
    "        clean = stripped\n",
    "    letters_only = re.sub(\"[^a-zA-Z]\", \" \", clean)\n",
    "    lower_case = letters_only.lower()\n",
    "    # During the letters_only process two lines above, it has created unnecessay white spaces,\n",
    "    # I will tokenize and join together to remove unneccessary white spaces\n",
    "    return lower_case.strip()\n",
    "preprocess = np.vectorize(bert_preprocess)"
   ]
  },
  {
   "cell_type": "code",
   "execution_count": 80,
   "id": "worth-nirvana",
   "metadata": {},
   "outputs": [],
   "source": [
    "def getTweets(username):\n",
    "    \"\"\"\n",
    "    Input: username\n",
    "    Returns: List of tweets in last 30 days\n",
    "    \"\"\"\n",
    "    thirty_earlier = datetime.datetime.utcnow()-datetime.timedelta(30)\n",
    "    tweets = []\n",
    "    for status in tweepy.Cursor(api.user_timeline,id=username).items():\n",
    "        if status.created_at > thirty_earlier:\n",
    "            tweets.append(status.text)\n",
    "        else:\n",
    "            break\n",
    "    preprocessed = preprocess(np.array(tweets))\n",
    "    predictions = tf.sigmoid(bert_model(tf.constant(preprocessed))) > 0.5\n",
    "    return np.mean(predictions)"
   ]
  },
  {
   "cell_type": "code",
   "execution_count": 81,
   "id": "established-seventh",
   "metadata": {},
   "outputs": [
    {
     "name": "stdout",
     "output_type": "stream",
     "text": [
      "0.8571428571428571\n"
     ]
    }
   ],
   "source": [
    "print(getTweets('POTUS'))"
   ]
  },
  {
   "cell_type": "code",
   "execution_count": null,
   "id": "strong-corporation",
   "metadata": {},
   "outputs": [],
   "source": []
  }
 ],
 "metadata": {
  "kernelspec": {
   "display_name": "Python 3",
   "language": "python",
   "name": "python3"
  },
  "language_info": {
   "codemirror_mode": {
    "name": "ipython",
    "version": 3
   },
   "file_extension": ".py",
   "mimetype": "text/x-python",
   "name": "python",
   "nbconvert_exporter": "python",
   "pygments_lexer": "ipython3",
   "version": "3.8.5"
  }
 },
 "nbformat": 4,
 "nbformat_minor": 5
}
